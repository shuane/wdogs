{
 "cells": [
  {
   "cell_type": "code",
   "execution_count": null,
   "metadata": {},
   "outputs": [],
   "source": [
    "from fastai.vision.all import *\n",
    "from fastai.vision.widgets import *"
   ]
  },
  {
   "cell_type": "markdown",
   "metadata": {},
   "source": [
    "# The Amazing W-Dog Classifier!"
   ]
  },
  {
   "cell_type": "markdown",
   "metadata": {},
   "source": [
    "You need to know whether you're being snuggled by a hunter/family dog like a Weimaraner, or a fast/family dog like a Whippet, or a wiry wee Wire Fox Terrier, and you need an answer *fast*? Then you've come to the right place. Take a pic of the potentially weird W-dog, and click 'upload' to classify it. \n",
    "\n",
    "Important: this only handles regular photos of these types of W-dog, it will not likely work well with drawings and is not guaranteed to be correct in any case :-)\n",
    "\n",
    "It likely will not work with these ASCII dogs, like these ones borrowed from https://www.asciiart.eu/animals/dogs \n",
    "\n",
    "```\n",
    "                ^..^      /\n",
    "                /_/\\_____/\n",
    "                   /\\   /\\\n",
    "                  /  \\ /  \\\n",
    "  \n",
    "                        __\n",
    "                   (___()'`;\n",
    "                   /,    /`\n",
    "                   \\\\\"--\\\\  \n",
    "\n",
    "            /)-_-(\\        /)-_-(\\\n",
    "             (o o)          (o o)\n",
    "     .-----__/\\o/            \\o/\\__-----.\n",
    "    /  __      /              \\      __  \\\n",
    "\\__/\\ /  \\_\\ |/                \\| /_/  \\ /\\__/\n",
    "     \\\\     ||                  ||      \\\\\n",
    "     //     ||                  ||      //\n",
    "     |\\     |\\                  /|     /|\n",
    "\n",
    "```\n",
    "----"
   ]
  },
  {
   "cell_type": "code",
   "execution_count": null,
   "metadata": {},
   "outputs": [],
   "source": [
    "path = Path()\n",
    "learn_inf = load_learner(path/'wdogs.pkl', cpu=True)\n",
    "btn_upload = widgets.FileUpload()\n",
    "out_pl = widgets.Output()\n",
    "lbl_pred = widgets.Label()"
   ]
  },
  {
   "cell_type": "code",
   "execution_count": 4,
   "metadata": {},
   "outputs": [],
   "source": [
    "def on_data_change(change):\n",
    "    lbl_pred.value = ''\n",
    "    img = PILImage.create(btn_upload.data[-1])\n",
    "    out_pl.clear_output()\n",
    "    with out_pl: display(img.to_thumb(128,128))\n",
    "    pred,pred_idx,probs = learn_inf.predict(img)\n",
    "    lbl_pred.value = f'Prediction: {pred}; Probability: {probs[pred_idx]:.04f}'"
   ]
  },
  {
   "cell_type": "code",
   "execution_count": 5,
   "metadata": {},
   "outputs": [],
   "source": [
    "btn_upload.observe(on_data_change, names=['data'])"
   ]
  },
  {
   "cell_type": "code",
   "execution_count": null,
   "metadata": {},
   "outputs": [],
   "source": [
    "display(VBox([widgets.Label('Select your dog!'), btn_upload, out_pl, lbl_pred]))"
   ]
  },
  {
   "cell_type": "code",
   "execution_count": null,
   "metadata": {},
   "outputs": [],
   "source": []
  }
 ],
 "metadata": {
  "jupytext": {
   "split_at_heading": true
  },
  "kernelspec": {
   "display_name": "Python 3 (ipykernel)",
   "language": "python",
   "name": "python3"
  },
  "language_info": {
   "codemirror_mode": {
    "name": "ipython",
    "version": 3
   },
   "file_extension": ".py",
   "mimetype": "text/x-python",
   "name": "python",
   "nbconvert_exporter": "python",
   "pygments_lexer": "ipython3",
   "version": "3.8.11"
  },
  "toc": {
   "base_numbering": 1,
   "nav_menu": {},
   "number_sections": false,
   "sideBar": true,
   "skip_h1_title": true,
   "title_cell": "Table of Contents",
   "title_sidebar": "Contents",
   "toc_cell": false,
   "toc_position": {},
   "toc_section_display": true,
   "toc_window_display": false
  }
 },
 "nbformat": 4,
 "nbformat_minor": 4
}
